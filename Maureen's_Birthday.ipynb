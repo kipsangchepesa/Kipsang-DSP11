{
  "nbformat": 4,
  "nbformat_minor": 0,
  "metadata": {
    "colab": {
      "name": "Maureen's Birthday.ipynb",
      "provenance": [],
      "authorship_tag": "ABX9TyP0Wtb9G+/AHdFmQSG4VFvf",
      "include_colab_link": true
    },
    "kernelspec": {
      "name": "python3",
      "display_name": "Python 3"
    },
    "language_info": {
      "name": "python"
    }
  },
  "cells": [
    {
      "cell_type": "markdown",
      "metadata": {
        "id": "view-in-github",
        "colab_type": "text"
      },
      "source": [
        "<a href=\"https://colab.research.google.com/github/kipsangchepesa/Kipsang-DSP11/blob/main/Maureen's_Birthday.ipynb\" target=\"_parent\"><img src=\"https://colab.research.google.com/assets/colab-badge.svg\" alt=\"Open In Colab\"/></a>"
      ]
    },
    {
      "cell_type": "code",
      "metadata": {
        "colab": {
          "base_uri": "https://localhost:8080/"
        },
        "id": "GFJLN8y6kmci",
        "outputId": "e038682e-ea7b-456e-c918-6950ec2bc32f"
      },
      "source": [
        "# This is a user defined function in python.\n",
        "def print_birthday_poem(birthday_person):\n",
        "    \"\"\" Prints happy birthday poem for the birthday person\"\"\"\n",
        "\n",
        "    \n",
        "    print(\"Happy Birthday, dear \" + birthday_person + \" This is the best i could manage to wish, \")\n",
        "    print(\"Happy Birthday to you!\")\n",
        "    print(\"Happy Birthday to you!\")\n",
        "    print(\"Happy Birthday, dear \" + birthday_person + \".\")\n",
        "    print(\"Happy Birthday to you!\")\n",
        "\n",
        "# define main function\n",
        "def main():\n",
        "    person_name = input(\"Hello kindly enter your name gently: \")\n",
        "    print_birthday_poem(person_name)\n",
        "\n",
        "# calling of the main() function\n",
        "main()"
      ],
      "execution_count": 3,
      "outputs": [
        {
          "output_type": "stream",
          "text": [
            "Hello kindly enter your name gently: Maureen\n",
            "Happy Birthday, dear Maureen This is the best i could manage to wish, \n",
            "Happy Birthday to you!\n",
            "Happy Birthday to you!\n",
            "Happy Birthday, dear Maureen.\n",
            "Happy Birthday to you!\n"
          ],
          "name": "stdout"
        }
      ]
    }
  ]
}