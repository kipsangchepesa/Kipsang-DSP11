{
  "nbformat": 4,
  "nbformat_minor": 0,
  "metadata": {
    "colab": {
      "name": "Moringa_Data_Science_Prep_W3_Independent_Project_2021_08_Kipsang_Nicholas_Data Analysis report.ipynb",
      "provenance": [],
      "collapsed_sections": [],
      "toc_visible": true,
      "authorship_tag": "ABX9TyO8itMyGgmJnF2iukqYRJ56",
      "include_colab_link": true
    },
    "kernelspec": {
      "name": "python3",
      "display_name": "Python 3"
    },
    "language_info": {
      "name": "python"
    }
  },
  "cells": [
    {
      "cell_type": "markdown",
      "metadata": {
        "id": "view-in-github",
        "colab_type": "text"
      },
      "source": [
        "<a href=\"https://colab.research.google.com/github/kipsangchepesa/Kipsang-DSP11/blob/main/Moringa_Data_Science_Prep_W3_Independent_Project_2021_08_Kipsang_Nicholas_Data_Analysis_report.ipynb\" target=\"_parent\"><img src=\"https://colab.research.google.com/assets/colab-badge.svg\" alt=\"Open In Colab\"/></a>"
      ]
    },
    {
      "cell_type": "markdown",
      "metadata": {
        "id": "tCdp0WkC0KJu"
      },
      "source": [
        "#1.1 Importing library"
      ]
    },
    {
      "cell_type": "code",
      "metadata": {
        "id": "nGB9ThDD0Ude"
      },
      "source": [
        "#Importing pandas library.\n",
        "import pandas as pd \n"
      ],
      "execution_count": null,
      "outputs": []
    },
    {
      "cell_type": "markdown",
      "metadata": {
        "id": "W1qp95_00SMe"
      },
      "source": [
        "#1.2 Loading dataset from excel, csv and Url."
      ]
    },
    {
      "cell_type": "markdown",
      "metadata": {
        "id": "OMBKF6QeA9L4"
      },
      "source": [
        "We will perform loading and cleaning of data simultaniously by droping those columns that doesnot matter the most"
      ]
    },
    {
      "cell_type": "markdown",
      "metadata": {
        "id": "jlFCmn6x8mq9"
      },
      "source": [
        "##### 1.2.1 Loading dataset from excel and csv respectively."
      ]
    },
    {
      "cell_type": "markdown",
      "metadata": {
        "id": "oSulrY1k2Tgy"
      },
      "source": [
        "Loading CDR dataset\n",
        "\n"
      ]
    },
    {
      "cell_type": "code",
      "metadata": {
        "colab": {
          "base_uri": "https://localhost:8080/",
          "height": 173
        },
        "id": "eIBCMxA72RqH",
        "outputId": "8eae2867-c3f7-466c-a9ba-c9b2c280906b"
      },
      "source": [
        "#cdr dataset is an excel file therefore pd.read_excel () is useful\n",
        "CDR_description =pd.read_excel(\"CDR_description.xlsx\")\n",
        "CDR_description.drop(['Format'], inplace=True, axis=1)\n",
        "CDR_description.head(4)"
      ],
      "execution_count": null,
      "outputs": [
        {
          "output_type": "execute_result",
          "data": {
            "text/html": [
              "<div>\n",
              "<style scoped>\n",
              "    .dataframe tbody tr th:only-of-type {\n",
              "        vertical-align: middle;\n",
              "    }\n",
              "\n",
              "    .dataframe tbody tr th {\n",
              "        vertical-align: top;\n",
              "    }\n",
              "\n",
              "    .dataframe thead th {\n",
              "        text-align: right;\n",
              "    }\n",
              "</style>\n",
              "<table border=\"1\" class=\"dataframe\">\n",
              "  <thead>\n",
              "    <tr style=\"text-align: right;\">\n",
              "      <th></th>\n",
              "      <th>Column name</th>\n",
              "      <th>Description</th>\n",
              "    </tr>\n",
              "  </thead>\n",
              "  <tbody>\n",
              "    <tr>\n",
              "      <th>0</th>\n",
              "      <td>PRODUCT</td>\n",
              "      <td>Voice or SMS</td>\n",
              "    </tr>\n",
              "    <tr>\n",
              "      <th>1</th>\n",
              "      <td>VALUE</td>\n",
              "      <td>Billing price</td>\n",
              "    </tr>\n",
              "    <tr>\n",
              "      <th>2</th>\n",
              "      <td>DATE_TIME</td>\n",
              "      <td>Time in format yyyy-MM-dd hh:mm:ss.0</td>\n",
              "    </tr>\n",
              "    <tr>\n",
              "      <th>3</th>\n",
              "      <td>CELL_ON_SITE</td>\n",
              "      <td>Which cell in the site was used (not needed here)</td>\n",
              "    </tr>\n",
              "  </tbody>\n",
              "</table>\n",
              "</div>"
            ],
            "text/plain": [
              "    Column name                                        Description\n",
              "0       PRODUCT                                       Voice or SMS\n",
              "1         VALUE                                      Billing price\n",
              "2     DATE_TIME               Time in format yyyy-MM-dd hh:mm:ss.0\n",
              "3  CELL_ON_SITE  Which cell in the site was used (not needed here)"
            ]
          },
          "metadata": {
            "tags": []
          },
          "execution_count": 25
        }
      ]
    },
    {
      "cell_type": "markdown",
      "metadata": {
        "id": "YsZmTPO53Me0"
      },
      "source": [
        "The dataset are description of columns that are in MTN datasets.Products represents voice or sms and the value is billing price."
      ]
    },
    {
      "cell_type": "code",
      "metadata": {
        "colab": {
          "base_uri": "https://localhost:8080/",
          "height": 419
        },
        "id": "Kp4Qb8bL2_0d",
        "outputId": "1cd95eb9-c1f5-4242-a44b-2c901fed6267"
      },
      "source": [
        "#loading cells geo dataset.\n",
        "cells_geo = pd.read_csv(\"cells_geo.csv\", sep =\";\")\n",
        "#droping columns Unnamed: 0,ZONENAME,\tLONGITUDE,\tLATITUDE,\tREGION,\tAREA,\tCELL_ID and \tSITE_COD\n",
        "cells_geo.drop(['Unnamed: 0','ZONENAME','LONGITUDE','LATITUDE','REGION','AREA','CELL_ID','SITE_CODE','DECOUPZONE'],inplace=True, axis=1)\n",
        "cells_geo.head(500)"
      ],
      "execution_count": null,
      "outputs": [
        {
          "output_type": "execute_result",
          "data": {
            "text/html": [
              "<div>\n",
              "<style scoped>\n",
              "    .dataframe tbody tr th:only-of-type {\n",
              "        vertical-align: middle;\n",
              "    }\n",
              "\n",
              "    .dataframe tbody tr th {\n",
              "        vertical-align: top;\n",
              "    }\n",
              "\n",
              "    .dataframe thead th {\n",
              "        text-align: right;\n",
              "    }\n",
              "</style>\n",
              "<table border=\"1\" class=\"dataframe\">\n",
              "  <thead>\n",
              "    <tr style=\"text-align: right;\">\n",
              "      <th></th>\n",
              "      <th>VILLES</th>\n",
              "      <th>STATUS</th>\n",
              "      <th>LOCALISATION</th>\n",
              "    </tr>\n",
              "  </thead>\n",
              "  <tbody>\n",
              "    <tr>\n",
              "      <th>0</th>\n",
              "      <td>ADJAME</td>\n",
              "      <td>In Service</td>\n",
              "      <td>ABIDJAN</td>\n",
              "    </tr>\n",
              "    <tr>\n",
              "      <th>1</th>\n",
              "      <td>ADJAME</td>\n",
              "      <td>In Service</td>\n",
              "      <td>ABIDJAN</td>\n",
              "    </tr>\n",
              "    <tr>\n",
              "      <th>2</th>\n",
              "      <td>ADJAME</td>\n",
              "      <td>In Service</td>\n",
              "      <td>ABIDJAN</td>\n",
              "    </tr>\n",
              "    <tr>\n",
              "      <th>3</th>\n",
              "      <td>ASSINIE</td>\n",
              "      <td>In Service</td>\n",
              "      <td>INTERIEUR</td>\n",
              "    </tr>\n",
              "    <tr>\n",
              "      <th>4</th>\n",
              "      <td>ASSINIE</td>\n",
              "      <td>In Service</td>\n",
              "      <td>INTERIEUR</td>\n",
              "    </tr>\n",
              "    <tr>\n",
              "      <th>...</th>\n",
              "      <td>...</td>\n",
              "      <td>...</td>\n",
              "      <td>...</td>\n",
              "    </tr>\n",
              "    <tr>\n",
              "      <th>495</th>\n",
              "      <td>ABOBO</td>\n",
              "      <td>In Service</td>\n",
              "      <td>ABIDJAN</td>\n",
              "    </tr>\n",
              "    <tr>\n",
              "      <th>496</th>\n",
              "      <td>ABOBO</td>\n",
              "      <td>In Service</td>\n",
              "      <td>ABIDJAN</td>\n",
              "    </tr>\n",
              "    <tr>\n",
              "      <th>497</th>\n",
              "      <td>ABOBO</td>\n",
              "      <td>In Service</td>\n",
              "      <td>ABIDJAN</td>\n",
              "    </tr>\n",
              "    <tr>\n",
              "      <th>498</th>\n",
              "      <td>ABOBO</td>\n",
              "      <td>In Service</td>\n",
              "      <td>ABIDJAN</td>\n",
              "    </tr>\n",
              "    <tr>\n",
              "      <th>499</th>\n",
              "      <td>ABOBO</td>\n",
              "      <td>In Service</td>\n",
              "      <td>ABIDJAN</td>\n",
              "    </tr>\n",
              "  </tbody>\n",
              "</table>\n",
              "<p>500 rows × 3 columns</p>\n",
              "</div>"
            ],
            "text/plain": [
              "      VILLES      STATUS LOCALISATION\n",
              "0     ADJAME  In Service      ABIDJAN\n",
              "1     ADJAME  In Service      ABIDJAN\n",
              "2     ADJAME  In Service      ABIDJAN\n",
              "3    ASSINIE  In Service    INTERIEUR\n",
              "4    ASSINIE  In Service    INTERIEUR\n",
              "..       ...         ...          ...\n",
              "495    ABOBO  In Service      ABIDJAN\n",
              "496    ABOBO  In Service      ABIDJAN\n",
              "497    ABOBO  In Service      ABIDJAN\n",
              "498    ABOBO  In Service      ABIDJAN\n",
              "499    ABOBO  In Service      ABIDJAN\n",
              "\n",
              "[500 rows x 3 columns]"
            ]
          },
          "metadata": {
            "tags": []
          },
          "execution_count": 20
        }
      ]
    },
    {
      "cell_type": "code",
      "metadata": {
        "colab": {
          "base_uri": "https://localhost:8080/",
          "height": 419
        },
        "id": "wCN7pip8DmHZ",
        "outputId": "6a9a8ed5-a573-4176-ecea-c5fed527fbc1"
      },
      "source": [
        "#CONCAT Telcom dataset 1 and cellsgeo dataset to have \n",
        "newdataset1= pd.concat([cells_geo,Telcom_dataset1], axis=1)\n"
      ],
      "execution_count": null,
      "outputs": [
        {
          "output_type": "execute_result",
          "data": {
            "text/html": [
              "<div>\n",
              "<style scoped>\n",
              "    .dataframe tbody tr th:only-of-type {\n",
              "        vertical-align: middle;\n",
              "    }\n",
              "\n",
              "    .dataframe tbody tr th {\n",
              "        vertical-align: top;\n",
              "    }\n",
              "\n",
              "    .dataframe thead th {\n",
              "        text-align: right;\n",
              "    }\n",
              "</style>\n",
              "<table border=\"1\" class=\"dataframe\">\n",
              "  <thead>\n",
              "    <tr style=\"text-align: right;\">\n",
              "      <th></th>\n",
              "      <th>VILLES</th>\n",
              "      <th>STATUS</th>\n",
              "      <th>LOCALISATION</th>\n",
              "      <th>PRODUTC</th>\n",
              "      <th>VALUE</th>\n",
              "      <th>DATETIME</th>\n",
              "      <th>CELL_ON_SITE</th>\n",
              "    </tr>\n",
              "  </thead>\n",
              "  <tbody>\n",
              "    <tr>\n",
              "      <th>0</th>\n",
              "      <td>ADJAME</td>\n",
              "      <td>In Service</td>\n",
              "      <td>ABIDJAN</td>\n",
              "      <td>Voice</td>\n",
              "      <td>0</td>\n",
              "      <td>2012-05-06 23:04:37.0</td>\n",
              "      <td>1</td>\n",
              "    </tr>\n",
              "    <tr>\n",
              "      <th>1</th>\n",
              "      <td>ADJAME</td>\n",
              "      <td>In Service</td>\n",
              "      <td>ABIDJAN</td>\n",
              "      <td>sms</td>\n",
              "      <td>0</td>\n",
              "      <td>2012-05-06 23:05:25.0</td>\n",
              "      <td>0</td>\n",
              "    </tr>\n",
              "    <tr>\n",
              "      <th>2</th>\n",
              "      <td>ADJAME</td>\n",
              "      <td>In Service</td>\n",
              "      <td>ABIDJAN</td>\n",
              "      <td>sms</td>\n",
              "      <td>25</td>\n",
              "      <td>2012-05-06 23:05:41.0</td>\n",
              "      <td>0</td>\n",
              "    </tr>\n",
              "    <tr>\n",
              "      <th>3</th>\n",
              "      <td>ASSINIE</td>\n",
              "      <td>In Service</td>\n",
              "      <td>INTERIEUR</td>\n",
              "      <td>Voice</td>\n",
              "      <td>56</td>\n",
              "      <td>2012-05-06 23:05:42.0</td>\n",
              "      <td>1</td>\n",
              "    </tr>\n",
              "    <tr>\n",
              "      <th>4</th>\n",
              "      <td>ASSINIE</td>\n",
              "      <td>In Service</td>\n",
              "      <td>INTERIEUR</td>\n",
              "      <td>Voice</td>\n",
              "      <td>14</td>\n",
              "      <td>2012-05-06 23:06:29.0</td>\n",
              "      <td>1</td>\n",
              "    </tr>\n",
              "    <tr>\n",
              "      <th>...</th>\n",
              "      <td>...</td>\n",
              "      <td>...</td>\n",
              "      <td>...</td>\n",
              "      <td>...</td>\n",
              "      <td>...</td>\n",
              "      <td>...</td>\n",
              "      <td>...</td>\n",
              "    </tr>\n",
              "    <tr>\n",
              "      <th>4996</th>\n",
              "      <td>NaN</td>\n",
              "      <td>NaN</td>\n",
              "      <td>NaN</td>\n",
              "      <td>sms</td>\n",
              "      <td>100</td>\n",
              "      <td>2012-05-07 00:01:54.0</td>\n",
              "      <td>0</td>\n",
              "    </tr>\n",
              "    <tr>\n",
              "      <th>4997</th>\n",
              "      <td>NaN</td>\n",
              "      <td>NaN</td>\n",
              "      <td>NaN</td>\n",
              "      <td>Voice</td>\n",
              "      <td>1</td>\n",
              "      <td>2012-05-07 00:01:54.0</td>\n",
              "      <td>1</td>\n",
              "    </tr>\n",
              "    <tr>\n",
              "      <th>4998</th>\n",
              "      <td>NaN</td>\n",
              "      <td>NaN</td>\n",
              "      <td>NaN</td>\n",
              "      <td>Voice</td>\n",
              "      <td>0</td>\n",
              "      <td>2012-05-07 00:01:54.0</td>\n",
              "      <td>1</td>\n",
              "    </tr>\n",
              "    <tr>\n",
              "      <th>4999</th>\n",
              "      <td>NaN</td>\n",
              "      <td>NaN</td>\n",
              "      <td>NaN</td>\n",
              "      <td>Voice</td>\n",
              "      <td>0</td>\n",
              "      <td>2012-05-07 00:01:54.0</td>\n",
              "      <td>0</td>\n",
              "    </tr>\n",
              "    <tr>\n",
              "      <th>5000</th>\n",
              "      <td>NaN</td>\n",
              "      <td>NaN</td>\n",
              "      <td>NaN</td>\n",
              "      <td>Voice</td>\n",
              "      <td>7</td>\n",
              "      <td>2012-05-07 00:01:54.0</td>\n",
              "      <td>2</td>\n",
              "    </tr>\n",
              "  </tbody>\n",
              "</table>\n",
              "<p>5001 rows × 7 columns</p>\n",
              "</div>"
            ],
            "text/plain": [
              "       VILLES      STATUS  ...               DATETIME CELL_ON_SITE\n",
              "0      ADJAME  In Service  ...  2012-05-06 23:04:37.0            1\n",
              "1      ADJAME  In Service  ...  2012-05-06 23:05:25.0            0\n",
              "2      ADJAME  In Service  ...  2012-05-06 23:05:41.0            0\n",
              "3     ASSINIE  In Service  ...  2012-05-06 23:05:42.0            1\n",
              "4     ASSINIE  In Service  ...  2012-05-06 23:06:29.0            1\n",
              "...       ...         ...  ...                    ...          ...\n",
              "4996      NaN         NaN  ...  2012-05-07 00:01:54.0            0\n",
              "4997      NaN         NaN  ...  2012-05-07 00:01:54.0            1\n",
              "4998      NaN         NaN  ...  2012-05-07 00:01:54.0            1\n",
              "4999      NaN         NaN  ...  2012-05-07 00:01:54.0            0\n",
              "5000      NaN         NaN  ...  2012-05-07 00:01:54.0            2\n",
              "\n",
              "[5001 rows x 7 columns]"
            ]
          },
          "metadata": {
            "tags": []
          },
          "execution_count": 43
        }
      ]
    },
    {
      "cell_type": "code",
      "metadata": {
        "colab": {
          "base_uri": "https://localhost:8080/",
          "height": 390
        },
        "id": "JLCf6u8U5-1H",
        "outputId": "6bfe3003-514d-437a-b196-207375361ec2"
      },
      "source": [
        "#loading the cell geo desrciption dataset contains columns that \n",
        "cells_geo_description =pd.read_excel(\"cells_geo_description.xlsx\")\n",
        "#droping the format column in the dataset.\n",
        "cells_geo_description.drop(['Format'],inplace=True,axis=1)\n",
        "cells_geo_description.head(11)"
      ],
      "execution_count": null,
      "outputs": [
        {
          "output_type": "execute_result",
          "data": {
            "text/html": [
              "<div>\n",
              "<style scoped>\n",
              "    .dataframe tbody tr th:only-of-type {\n",
              "        vertical-align: middle;\n",
              "    }\n",
              "\n",
              "    .dataframe tbody tr th {\n",
              "        vertical-align: top;\n",
              "    }\n",
              "\n",
              "    .dataframe thead th {\n",
              "        text-align: right;\n",
              "    }\n",
              "</style>\n",
              "<table border=\"1\" class=\"dataframe\">\n",
              "  <thead>\n",
              "    <tr style=\"text-align: right;\">\n",
              "      <th></th>\n",
              "      <th>Column name</th>\n",
              "      <th>Description</th>\n",
              "    </tr>\n",
              "  </thead>\n",
              "  <tbody>\n",
              "    <tr>\n",
              "      <th>0</th>\n",
              "      <td>VILLES</td>\n",
              "      <td>City</td>\n",
              "    </tr>\n",
              "    <tr>\n",
              "      <th>1</th>\n",
              "      <td>STATUS</td>\n",
              "      <td>In Service or not</td>\n",
              "    </tr>\n",
              "    <tr>\n",
              "      <th>2</th>\n",
              "      <td>LOCALISATION</td>\n",
              "      <td>in ABIDJAN or not</td>\n",
              "    </tr>\n",
              "    <tr>\n",
              "      <th>3</th>\n",
              "      <td>DECOUPZONE</td>\n",
              "      <td>Geographical Zone</td>\n",
              "    </tr>\n",
              "    <tr>\n",
              "      <th>4</th>\n",
              "      <td>ZONENAME</td>\n",
              "      <td>Name of Zone</td>\n",
              "    </tr>\n",
              "    <tr>\n",
              "      <th>5</th>\n",
              "      <td>LONGITUDE</td>\n",
              "      <td>Longitude</td>\n",
              "    </tr>\n",
              "    <tr>\n",
              "      <th>6</th>\n",
              "      <td>LATITUDE</td>\n",
              "      <td>Latitude</td>\n",
              "    </tr>\n",
              "    <tr>\n",
              "      <th>7</th>\n",
              "      <td>REGION</td>\n",
              "      <td>Region</td>\n",
              "    </tr>\n",
              "    <tr>\n",
              "      <th>8</th>\n",
              "      <td>AREA</td>\n",
              "      <td>Area</td>\n",
              "    </tr>\n",
              "    <tr>\n",
              "      <th>9</th>\n",
              "      <td>CELL_ID</td>\n",
              "      <td>ID of the cell</td>\n",
              "    </tr>\n",
              "    <tr>\n",
              "      <th>10</th>\n",
              "      <td>SITE_CODE</td>\n",
              "      <td>Site (there are several cells per site, severa...</td>\n",
              "    </tr>\n",
              "  </tbody>\n",
              "</table>\n",
              "</div>"
            ],
            "text/plain": [
              "     Column name                                        Description\n",
              "0         VILLES                                               City\n",
              "1         STATUS                                  In Service or not\n",
              "2   LOCALISATION                                  in ABIDJAN or not\n",
              "3     DECOUPZONE                                  Geographical Zone\n",
              "4       ZONENAME                                       Name of Zone\n",
              "5      LONGITUDE                                          Longitude\n",
              "6       LATITUDE                                           Latitude\n",
              "7         REGION                                             Region\n",
              "8           AREA                                               Area\n",
              "9        CELL_ID                                     ID of the cell\n",
              "10     SITE_CODE  Site (there are several cells per site, severa..."
            ]
          },
          "metadata": {
            "tags": []
          },
          "execution_count": 24
        }
      ]
    },
    {
      "cell_type": "markdown",
      "metadata": {
        "id": "ir0LPNN28Pte"
      },
      "source": [
        "##### 1.2.1 Loading dataset from URL."
      ]
    },
    {
      "cell_type": "markdown",
      "metadata": {
        "id": "6th4-vBeAoCf"
      },
      "source": [
        "We will perform loading and cleaning of data simultaniously by droping those columns that doesnot matter the most. "
      ]
    },
    {
      "cell_type": "code",
      "metadata": {
        "colab": {
          "base_uri": "https://localhost:8080/",
          "height": 419
        },
        "id": "OmxjydHj8Z7O",
        "outputId": "02f79424-d059-41ef-e148-de8b825aa028"
      },
      "source": [
        "#Loading Telcom dataset 1\n",
        "Telcom_dataset1 = pd.read_csv(\"http://bit.ly/Telcom_dataset1\")\n",
        "Telcom_dataset1.drop([\"DW_A_NUMBER_INT\",\"DW_B_NUMBER_INT\",\"COUNTRY_A\",\"COUNTRY_B\",\"CELL_ID\",\"SITE_ID\"],inplace=True, axis=1)\n",
        "Telcom_dataset1"
      ],
      "execution_count": null,
      "outputs": [
        {
          "output_type": "execute_result",
          "data": {
            "text/html": [
              "<div>\n",
              "<style scoped>\n",
              "    .dataframe tbody tr th:only-of-type {\n",
              "        vertical-align: middle;\n",
              "    }\n",
              "\n",
              "    .dataframe tbody tr th {\n",
              "        vertical-align: top;\n",
              "    }\n",
              "\n",
              "    .dataframe thead th {\n",
              "        text-align: right;\n",
              "    }\n",
              "</style>\n",
              "<table border=\"1\" class=\"dataframe\">\n",
              "  <thead>\n",
              "    <tr style=\"text-align: right;\">\n",
              "      <th></th>\n",
              "      <th>PRODUTC</th>\n",
              "      <th>VALUE</th>\n",
              "      <th>DATETIME</th>\n",
              "      <th>CELL_ON_SITE</th>\n",
              "    </tr>\n",
              "  </thead>\n",
              "  <tbody>\n",
              "    <tr>\n",
              "      <th>0</th>\n",
              "      <td>Voice</td>\n",
              "      <td>0</td>\n",
              "      <td>2012-05-06 23:04:37.0</td>\n",
              "      <td>1</td>\n",
              "    </tr>\n",
              "    <tr>\n",
              "      <th>1</th>\n",
              "      <td>sms</td>\n",
              "      <td>0</td>\n",
              "      <td>2012-05-06 23:05:25.0</td>\n",
              "      <td>0</td>\n",
              "    </tr>\n",
              "    <tr>\n",
              "      <th>2</th>\n",
              "      <td>sms</td>\n",
              "      <td>25</td>\n",
              "      <td>2012-05-06 23:05:41.0</td>\n",
              "      <td>0</td>\n",
              "    </tr>\n",
              "    <tr>\n",
              "      <th>3</th>\n",
              "      <td>Voice</td>\n",
              "      <td>56</td>\n",
              "      <td>2012-05-06 23:05:42.0</td>\n",
              "      <td>1</td>\n",
              "    </tr>\n",
              "    <tr>\n",
              "      <th>4</th>\n",
              "      <td>Voice</td>\n",
              "      <td>14</td>\n",
              "      <td>2012-05-06 23:06:29.0</td>\n",
              "      <td>1</td>\n",
              "    </tr>\n",
              "    <tr>\n",
              "      <th>...</th>\n",
              "      <td>...</td>\n",
              "      <td>...</td>\n",
              "      <td>...</td>\n",
              "      <td>...</td>\n",
              "    </tr>\n",
              "    <tr>\n",
              "      <th>4996</th>\n",
              "      <td>sms</td>\n",
              "      <td>100</td>\n",
              "      <td>2012-05-07 00:01:54.0</td>\n",
              "      <td>0</td>\n",
              "    </tr>\n",
              "    <tr>\n",
              "      <th>4997</th>\n",
              "      <td>Voice</td>\n",
              "      <td>1</td>\n",
              "      <td>2012-05-07 00:01:54.0</td>\n",
              "      <td>1</td>\n",
              "    </tr>\n",
              "    <tr>\n",
              "      <th>4998</th>\n",
              "      <td>Voice</td>\n",
              "      <td>0</td>\n",
              "      <td>2012-05-07 00:01:54.0</td>\n",
              "      <td>1</td>\n",
              "    </tr>\n",
              "    <tr>\n",
              "      <th>4999</th>\n",
              "      <td>Voice</td>\n",
              "      <td>0</td>\n",
              "      <td>2012-05-07 00:01:54.0</td>\n",
              "      <td>0</td>\n",
              "    </tr>\n",
              "    <tr>\n",
              "      <th>5000</th>\n",
              "      <td>Voice</td>\n",
              "      <td>7</td>\n",
              "      <td>2012-05-07 00:01:54.0</td>\n",
              "      <td>2</td>\n",
              "    </tr>\n",
              "  </tbody>\n",
              "</table>\n",
              "<p>5001 rows × 4 columns</p>\n",
              "</div>"
            ],
            "text/plain": [
              "     PRODUTC  VALUE               DATETIME CELL_ON_SITE\n",
              "0      Voice      0  2012-05-06 23:04:37.0            1\n",
              "1        sms      0  2012-05-06 23:05:25.0            0\n",
              "2        sms     25  2012-05-06 23:05:41.0            0\n",
              "3      Voice     56  2012-05-06 23:05:42.0            1\n",
              "4      Voice     14  2012-05-06 23:06:29.0            1\n",
              "...      ...    ...                    ...          ...\n",
              "4996     sms    100  2012-05-07 00:01:54.0            0\n",
              "4997   Voice      1  2012-05-07 00:01:54.0            1\n",
              "4998   Voice      0  2012-05-07 00:01:54.0            1\n",
              "4999   Voice      0  2012-05-07 00:01:54.0            0\n",
              "5000   Voice      7  2012-05-07 00:01:54.0            2\n",
              "\n",
              "[5001 rows x 4 columns]"
            ]
          },
          "metadata": {
            "tags": []
          },
          "execution_count": 27
        }
      ]
    },
    {
      "cell_type": "code",
      "metadata": {
        "colab": {
          "base_uri": "https://localhost:8080/",
          "height": 419
        },
        "id": "4dASbEik-f-0",
        "outputId": "ed243d5a-9568-40a2-e3ea-56d06d01fea2"
      },
      "source": [
        "#Loading Telcom dataset 2\n",
        "Telcom_dataset2 = pd.read_csv(\"http://bit.ly/Telcom_dataset2\")\n",
        "Telcom_dataset2.drop([\"DW_A_NUMBER\",\"DW_B_NUMBER\",\"COUNTRY_A\",\"COUNTRY_B\",\"CELL_ID\",\"SITE_ID\"],inplace=True, axis=1)\n",
        "Telcom_dataset2"
      ],
      "execution_count": null,
      "outputs": [
        {
          "output_type": "execute_result",
          "data": {
            "text/html": [
              "<div>\n",
              "<style scoped>\n",
              "    .dataframe tbody tr th:only-of-type {\n",
              "        vertical-align: middle;\n",
              "    }\n",
              "\n",
              "    .dataframe tbody tr th {\n",
              "        vertical-align: top;\n",
              "    }\n",
              "\n",
              "    .dataframe thead th {\n",
              "        text-align: right;\n",
              "    }\n",
              "</style>\n",
              "<table border=\"1\" class=\"dataframe\">\n",
              "  <thead>\n",
              "    <tr style=\"text-align: right;\">\n",
              "      <th></th>\n",
              "      <th>PRODUCT</th>\n",
              "      <th>VALUE</th>\n",
              "      <th>DATE_TIME</th>\n",
              "      <th>CELL_ON_SITE</th>\n",
              "    </tr>\n",
              "  </thead>\n",
              "  <tbody>\n",
              "    <tr>\n",
              "      <th>0</th>\n",
              "      <td>sms</td>\n",
              "      <td>0</td>\n",
              "      <td>2012-05-07 23:02:06.0</td>\n",
              "      <td>2</td>\n",
              "    </tr>\n",
              "    <tr>\n",
              "      <th>1</th>\n",
              "      <td>Voice</td>\n",
              "      <td>0</td>\n",
              "      <td>2012-05-07 23:03:44.0</td>\n",
              "      <td>1</td>\n",
              "    </tr>\n",
              "    <tr>\n",
              "      <th>2</th>\n",
              "      <td>sms</td>\n",
              "      <td>0</td>\n",
              "      <td>2012-05-07 23:04:06.0</td>\n",
              "      <td>0</td>\n",
              "    </tr>\n",
              "    <tr>\n",
              "      <th>3</th>\n",
              "      <td>Voice</td>\n",
              "      <td>37</td>\n",
              "      <td>2012-05-07 23:04:48.0</td>\n",
              "      <td>1</td>\n",
              "    </tr>\n",
              "    <tr>\n",
              "      <th>4</th>\n",
              "      <td>sms</td>\n",
              "      <td>25</td>\n",
              "      <td>2012-05-07 23:04:58.0</td>\n",
              "      <td>1</td>\n",
              "    </tr>\n",
              "    <tr>\n",
              "      <th>...</th>\n",
              "      <td>...</td>\n",
              "      <td>...</td>\n",
              "      <td>...</td>\n",
              "      <td>...</td>\n",
              "    </tr>\n",
              "    <tr>\n",
              "      <th>4996</th>\n",
              "      <td>sms</td>\n",
              "      <td>0</td>\n",
              "      <td>2012-05-08 00:01:53.0</td>\n",
              "      <td>8</td>\n",
              "    </tr>\n",
              "    <tr>\n",
              "      <th>4997</th>\n",
              "      <td>sms</td>\n",
              "      <td>25</td>\n",
              "      <td>2012-05-08 00:01:53.0</td>\n",
              "      <td>0</td>\n",
              "    </tr>\n",
              "    <tr>\n",
              "      <th>4998</th>\n",
              "      <td>sms</td>\n",
              "      <td>0</td>\n",
              "      <td>2012-05-08 00:01:53.0</td>\n",
              "      <td>0</td>\n",
              "    </tr>\n",
              "    <tr>\n",
              "      <th>4999</th>\n",
              "      <td>data</td>\n",
              "      <td>0</td>\n",
              "      <td>2012-05-08 00:01:53.0</td>\n",
              "      <td>_</td>\n",
              "    </tr>\n",
              "    <tr>\n",
              "      <th>5000</th>\n",
              "      <td>Voice</td>\n",
              "      <td>0</td>\n",
              "      <td>2012-05-08 00:01:53.0</td>\n",
              "      <td>0</td>\n",
              "    </tr>\n",
              "  </tbody>\n",
              "</table>\n",
              "<p>5001 rows × 4 columns</p>\n",
              "</div>"
            ],
            "text/plain": [
              "     PRODUCT  VALUE              DATE_TIME CELL_ON_SITE\n",
              "0        sms      0  2012-05-07 23:02:06.0            2\n",
              "1      Voice      0  2012-05-07 23:03:44.0            1\n",
              "2        sms      0  2012-05-07 23:04:06.0            0\n",
              "3      Voice     37  2012-05-07 23:04:48.0            1\n",
              "4        sms     25  2012-05-07 23:04:58.0            1\n",
              "...      ...    ...                    ...          ...\n",
              "4996     sms      0  2012-05-08 00:01:53.0            8\n",
              "4997     sms     25  2012-05-08 00:01:53.0            0\n",
              "4998     sms      0  2012-05-08 00:01:53.0            0\n",
              "4999    data      0  2012-05-08 00:01:53.0            _\n",
              "5000   Voice      0  2012-05-08 00:01:53.0            0\n",
              "\n",
              "[5001 rows x 4 columns]"
            ]
          },
          "metadata": {
            "tags": []
          },
          "execution_count": 29
        }
      ]
    },
    {
      "cell_type": "code",
      "metadata": {
        "colab": {
          "base_uri": "https://localhost:8080/",
          "height": 419
        },
        "id": "v5YYb7WB_kXp",
        "outputId": "7191fc9f-f9ef-47d4-afc6-85b3069133ab"
      },
      "source": [
        "#Loading Telcom dataset 3\n",
        "Telcom_dataset3 = pd.read_csv(\"http://bit.ly/Telcom_dataset3\")\n",
        "Telcom_dataset3.drop([\"DW_A_NUMBER_INT\",\"DW_B_NUMBER_INT\",\"COUNTRY_A\",\"COUNTRY_B\",\"CELLID\",\"SIET_ID\"],inplace=True, axis=1)\n",
        "Telcom_dataset3"
      ],
      "execution_count": null,
      "outputs": [
        {
          "output_type": "execute_result",
          "data": {
            "text/html": [
              "<div>\n",
              "<style scoped>\n",
              "    .dataframe tbody tr th:only-of-type {\n",
              "        vertical-align: middle;\n",
              "    }\n",
              "\n",
              "    .dataframe tbody tr th {\n",
              "        vertical-align: top;\n",
              "    }\n",
              "\n",
              "    .dataframe thead th {\n",
              "        text-align: right;\n",
              "    }\n",
              "</style>\n",
              "<table border=\"1\" class=\"dataframe\">\n",
              "  <thead>\n",
              "    <tr style=\"text-align: right;\">\n",
              "      <th></th>\n",
              "      <th>PRODUCT</th>\n",
              "      <th>VALUE</th>\n",
              "      <th>DATE_TIME</th>\n",
              "      <th>CELL_ON_SITE</th>\n",
              "    </tr>\n",
              "  </thead>\n",
              "  <tbody>\n",
              "    <tr>\n",
              "      <th>0</th>\n",
              "      <td>Voice</td>\n",
              "      <td>61</td>\n",
              "      <td>2012-05-08 23:01:28.0</td>\n",
              "      <td>2</td>\n",
              "    </tr>\n",
              "    <tr>\n",
              "      <th>1</th>\n",
              "      <td>sms</td>\n",
              "      <td>0</td>\n",
              "      <td>2012-05-08 23:01:31.0</td>\n",
              "      <td>1</td>\n",
              "    </tr>\n",
              "    <tr>\n",
              "      <th>2</th>\n",
              "      <td>Voice</td>\n",
              "      <td>10</td>\n",
              "      <td>2012-05-08 23:02:59.0</td>\n",
              "      <td>1</td>\n",
              "    </tr>\n",
              "    <tr>\n",
              "      <th>3</th>\n",
              "      <td>sms</td>\n",
              "      <td>0</td>\n",
              "      <td>2012-05-08 23:03:04.0</td>\n",
              "      <td>0</td>\n",
              "    </tr>\n",
              "    <tr>\n",
              "      <th>4</th>\n",
              "      <td>Voice</td>\n",
              "      <td>22</td>\n",
              "      <td>2012-05-08 23:03:16.0</td>\n",
              "      <td>4</td>\n",
              "    </tr>\n",
              "    <tr>\n",
              "      <th>...</th>\n",
              "      <td>...</td>\n",
              "      <td>...</td>\n",
              "      <td>...</td>\n",
              "      <td>...</td>\n",
              "    </tr>\n",
              "    <tr>\n",
              "      <th>4996</th>\n",
              "      <td>Voice</td>\n",
              "      <td>0</td>\n",
              "      <td>2012-05-09 00:01:43.0</td>\n",
              "      <td>3</td>\n",
              "    </tr>\n",
              "    <tr>\n",
              "      <th>4997</th>\n",
              "      <td>Voice</td>\n",
              "      <td>62</td>\n",
              "      <td>2012-05-09 00:01:43.0</td>\n",
              "      <td>1</td>\n",
              "    </tr>\n",
              "    <tr>\n",
              "      <th>4998</th>\n",
              "      <td>Voice</td>\n",
              "      <td>32</td>\n",
              "      <td>2012-05-09 00:01:43.0</td>\n",
              "      <td>1</td>\n",
              "    </tr>\n",
              "    <tr>\n",
              "      <th>4999</th>\n",
              "      <td>Voice</td>\n",
              "      <td>30</td>\n",
              "      <td>2012-05-09 00:01:43.0</td>\n",
              "      <td>2</td>\n",
              "    </tr>\n",
              "    <tr>\n",
              "      <th>5000</th>\n",
              "      <td>Voice</td>\n",
              "      <td>60</td>\n",
              "      <td>2012-05-09 00:01:43.0</td>\n",
              "      <td>2</td>\n",
              "    </tr>\n",
              "  </tbody>\n",
              "</table>\n",
              "<p>5001 rows × 4 columns</p>\n",
              "</div>"
            ],
            "text/plain": [
              "     PRODUCT  VALUE              DATE_TIME CELL_ON_SITE\n",
              "0      Voice     61  2012-05-08 23:01:28.0            2\n",
              "1        sms      0  2012-05-08 23:01:31.0            1\n",
              "2      Voice     10  2012-05-08 23:02:59.0            1\n",
              "3        sms      0  2012-05-08 23:03:04.0            0\n",
              "4      Voice     22  2012-05-08 23:03:16.0            4\n",
              "...      ...    ...                    ...          ...\n",
              "4996   Voice      0  2012-05-09 00:01:43.0            3\n",
              "4997   Voice     62  2012-05-09 00:01:43.0            1\n",
              "4998   Voice     32  2012-05-09 00:01:43.0            1\n",
              "4999   Voice     30  2012-05-09 00:01:43.0            2\n",
              "5000   Voice     60  2012-05-09 00:01:43.0            2\n",
              "\n",
              "[5001 rows x 4 columns]"
            ]
          },
          "metadata": {
            "tags": []
          },
          "execution_count": 31
        }
      ]
    },
    {
      "cell_type": "markdown",
      "metadata": {
        "id": "p4DZAYAOCzGa"
      },
      "source": [
        "# 1.3 The the most used city for the three days."
      ]
    },
    {
      "cell_type": "code",
      "metadata": {
        "colab": {
          "base_uri": "https://localhost:8080/"
        },
        "id": "dEfi-H0jDN44",
        "outputId": "fdcf336c-66c5-454b-cdce-03b17b478567"
      },
      "source": [
        "#concate cell geo dataset with Telcom dataset1 to have\n",
        "newdataset1=pd.concat([cells_geo,Telcom_dataset1], axis=1)\n",
        "newdataset1['VILLES'].value_counts()"
      ],
      "execution_count": null,
      "outputs": [
        {
          "output_type": "execute_result",
          "data": {
            "text/plain": [
              "COCODY         354\n",
              "YOPOUGON       295\n",
              "ABOBO          255\n",
              "MARCORY        141\n",
              "TREICHVILLE    132\n",
              "              ... \n",
              "KEIBLA           3\n",
              "MEMNI            2\n",
              "KOTOULA          2\n",
              "OUANGOLO         1\n",
              "DANANON          1\n",
              "Name: VILLES, Length: 504, dtype: int64"
            ]
          },
          "metadata": {
            "tags": []
          },
          "execution_count": 45
        }
      ]
    },
    {
      "cell_type": "code",
      "metadata": {
        "colab": {
          "base_uri": "https://localhost:8080/"
        },
        "id": "TEe5QWfJGG7m",
        "outputId": "7e86cded-c99c-44e0-f2e9-244979291851"
      },
      "source": [
        "#concate cell geo dataset with Telcom dataset2 to have\n",
        "newdataset2=pd.concat([cells_geo,Telcom_dataset2], axis=1)\n",
        "newdataset2['VILLES'].value_counts()"
      ],
      "execution_count": null,
      "outputs": [
        {
          "output_type": "execute_result",
          "data": {
            "text/plain": [
              "COCODY         354\n",
              "YOPOUGON       295\n",
              "ABOBO          255\n",
              "MARCORY        141\n",
              "TREICHVILLE    132\n",
              "              ... \n",
              "KEIBLA           3\n",
              "MEMNI            2\n",
              "KOTOULA          2\n",
              "OUANGOLO         1\n",
              "DANANON          1\n",
              "Name: VILLES, Length: 504, dtype: int64"
            ]
          },
          "metadata": {
            "tags": []
          },
          "execution_count": 46
        }
      ]
    },
    {
      "cell_type": "code",
      "metadata": {
        "colab": {
          "base_uri": "https://localhost:8080/"
        },
        "id": "2thqTFvcGUCg",
        "outputId": "070ffc3c-04a9-4702-f611-0adbc229c197"
      },
      "source": [
        "#concate cell geo dataset with Telcom dataset3 to have\n",
        "newdataset3=pd.concat([cells_geo,Telcom_dataset3], axis=1)\n",
        "newdataset3['VILLES'].value_counts()"
      ],
      "execution_count": null,
      "outputs": [
        {
          "output_type": "execute_result",
          "data": {
            "text/plain": [
              "COCODY         354\n",
              "YOPOUGON       295\n",
              "ABOBO          255\n",
              "MARCORY        141\n",
              "TREICHVILLE    132\n",
              "              ... \n",
              "KEIBLA           3\n",
              "MEMNI            2\n",
              "KOTOULA          2\n",
              "OUANGOLO         1\n",
              "DANANON          1\n",
              "Name: VILLES, Length: 504, dtype: int64"
            ]
          },
          "metadata": {
            "tags": []
          },
          "execution_count": 47
        }
      ]
    },
    {
      "cell_type": "markdown",
      "metadata": {
        "id": "TFuykeHFG0yq"
      },
      "source": [
        "As seen in  the dataset the answer as to which city was most used in the 3 days is COCODY which appear to have been used the most by 354 times in collecting the MTN CDR dataset for the three days."
      ]
    },
    {
      "cell_type": "markdown",
      "metadata": {
        "id": "2UARySLbJNTX"
      },
      "source": [
        "# 1.4 Cities were the most used during business and home hours."
      ]
    },
    {
      "cell_type": "code",
      "metadata": {
        "colab": {
          "base_uri": "https://localhost:8080/",
          "height": 450
        },
        "id": "LFVY2DP6JVe-",
        "outputId": "63aac8f4-d95f-4c41-eceb-096e89f86b06"
      },
      "source": [
        "#Grouping by product to check the most city with high billing price in each product.\n",
        "newdataset1.groupby([\"PRODUTC\",\"VILLES\",\"STATUS\",\"DATETIME\"], sort= True).sum().head(1000)"
      ],
      "execution_count": null,
      "outputs": [
        {
          "output_type": "execute_result",
          "data": {
            "text/html": [
              "<div>\n",
              "<style scoped>\n",
              "    .dataframe tbody tr th:only-of-type {\n",
              "        vertical-align: middle;\n",
              "    }\n",
              "\n",
              "    .dataframe tbody tr th {\n",
              "        vertical-align: top;\n",
              "    }\n",
              "\n",
              "    .dataframe thead th {\n",
              "        text-align: right;\n",
              "    }\n",
              "</style>\n",
              "<table border=\"1\" class=\"dataframe\">\n",
              "  <thead>\n",
              "    <tr style=\"text-align: right;\">\n",
              "      <th></th>\n",
              "      <th></th>\n",
              "      <th></th>\n",
              "      <th></th>\n",
              "      <th>VALUE</th>\n",
              "    </tr>\n",
              "    <tr>\n",
              "      <th>PRODUTC</th>\n",
              "      <th>VILLES</th>\n",
              "      <th>STATUS</th>\n",
              "      <th>DATETIME</th>\n",
              "      <th></th>\n",
              "    </tr>\n",
              "  </thead>\n",
              "  <tbody>\n",
              "    <tr>\n",
              "      <th rowspan=\"5\" valign=\"top\">Voice</th>\n",
              "      <th rowspan=\"5\" valign=\"top\">ABENGOUROU</th>\n",
              "      <th rowspan=\"5\" valign=\"top\">In Service</th>\n",
              "      <th>2012-05-06 23:15:34.0</th>\n",
              "      <td>14</td>\n",
              "    </tr>\n",
              "    <tr>\n",
              "      <th>2012-05-06 23:15:41.0</th>\n",
              "      <td>152</td>\n",
              "    </tr>\n",
              "    <tr>\n",
              "      <th>2012-05-06 23:15:44.0</th>\n",
              "      <td>138</td>\n",
              "    </tr>\n",
              "    <tr>\n",
              "      <th>2012-05-06 23:15:46.0</th>\n",
              "      <td>30</td>\n",
              "    </tr>\n",
              "    <tr>\n",
              "      <th>2012-05-06 23:16:02.0</th>\n",
              "      <td>192</td>\n",
              "    </tr>\n",
              "    <tr>\n",
              "      <th>...</th>\n",
              "      <th>...</th>\n",
              "      <th>...</th>\n",
              "      <th>...</th>\n",
              "      <td>...</td>\n",
              "    </tr>\n",
              "    <tr>\n",
              "      <th rowspan=\"5\" valign=\"top\">sms</th>\n",
              "      <th>ABONGOUA</th>\n",
              "      <th>In Service</th>\n",
              "      <th>2012-05-06 23:30:14.0</th>\n",
              "      <td>0</td>\n",
              "    </tr>\n",
              "    <tr>\n",
              "      <th rowspan=\"2\" valign=\"top\">ABOUDEKOUASSIKRO</th>\n",
              "      <th rowspan=\"2\" valign=\"top\">In Service</th>\n",
              "      <th>2012-05-06 23:30:17.0</th>\n",
              "      <td>0</td>\n",
              "    </tr>\n",
              "    <tr>\n",
              "      <th>2012-05-06 23:30:24.0</th>\n",
              "      <td>0</td>\n",
              "    </tr>\n",
              "    <tr>\n",
              "      <th>ABRONAMOUE</th>\n",
              "      <th>In Service</th>\n",
              "      <th>2012-05-06 23:31:34.0</th>\n",
              "      <td>0</td>\n",
              "    </tr>\n",
              "    <tr>\n",
              "      <th>ADAOU</th>\n",
              "      <th>In Service</th>\n",
              "      <th>2012-05-06 23:33:07.0</th>\n",
              "      <td>0</td>\n",
              "    </tr>\n",
              "  </tbody>\n",
              "</table>\n",
              "<p>1000 rows × 1 columns</p>\n",
              "</div>"
            ],
            "text/plain": [
              "                                                           VALUE\n",
              "PRODUTC VILLES           STATUS     DATETIME                    \n",
              "Voice   ABENGOUROU       In Service 2012-05-06 23:15:34.0     14\n",
              "                                    2012-05-06 23:15:41.0    152\n",
              "                                    2012-05-06 23:15:44.0    138\n",
              "                                    2012-05-06 23:15:46.0     30\n",
              "                                    2012-05-06 23:16:02.0    192\n",
              "...                                                          ...\n",
              "sms     ABONGOUA         In Service 2012-05-06 23:30:14.0      0\n",
              "        ABOUDEKOUASSIKRO In Service 2012-05-06 23:30:17.0      0\n",
              "                                    2012-05-06 23:30:24.0      0\n",
              "        ABRONAMOUE       In Service 2012-05-06 23:31:34.0      0\n",
              "        ADAOU            In Service 2012-05-06 23:33:07.0      0\n",
              "\n",
              "[1000 rows x 1 columns]"
            ]
          },
          "metadata": {
            "tags": []
          },
          "execution_count": 67
        }
      ]
    },
    {
      "cell_type": "code",
      "metadata": {
        "colab": {
          "base_uri": "https://localhost:8080/",
          "height": 173
        },
        "id": "9Czox-2nNJHz",
        "outputId": "98a1a74e-d410-4cd5-85d9-844ae0530df1"
      },
      "source": [
        "#Getting the mean of the three products.\n",
        "newdataset1.groupby([\"PRODUTC\"]).mean()"
      ],
      "execution_count": null,
      "outputs": [
        {
          "output_type": "execute_result",
          "data": {
            "text/html": [
              "<div>\n",
              "<style scoped>\n",
              "    .dataframe tbody tr th:only-of-type {\n",
              "        vertical-align: middle;\n",
              "    }\n",
              "\n",
              "    .dataframe tbody tr th {\n",
              "        vertical-align: top;\n",
              "    }\n",
              "\n",
              "    .dataframe thead th {\n",
              "        text-align: right;\n",
              "    }\n",
              "</style>\n",
              "<table border=\"1\" class=\"dataframe\">\n",
              "  <thead>\n",
              "    <tr style=\"text-align: right;\">\n",
              "      <th></th>\n",
              "      <th>VALUE</th>\n",
              "    </tr>\n",
              "    <tr>\n",
              "      <th>PRODUTC</th>\n",
              "      <th></th>\n",
              "    </tr>\n",
              "  </thead>\n",
              "  <tbody>\n",
              "    <tr>\n",
              "      <th>Voice</th>\n",
              "      <td>49.062190</td>\n",
              "    </tr>\n",
              "    <tr>\n",
              "      <th>data</th>\n",
              "      <td>8.713755</td>\n",
              "    </tr>\n",
              "    <tr>\n",
              "      <th>sms</th>\n",
              "      <td>6.821772</td>\n",
              "    </tr>\n",
              "  </tbody>\n",
              "</table>\n",
              "</div>"
            ],
            "text/plain": [
              "             VALUE\n",
              "PRODUTC           \n",
              "Voice    49.062190\n",
              "data      8.713755\n",
              "sms       6.821772"
            ]
          },
          "metadata": {
            "tags": []
          },
          "execution_count": 62
        }
      ]
    },
    {
      "cell_type": "code",
      "metadata": {
        "colab": {
          "base_uri": "https://localhost:8080/",
          "height": 450
        },
        "id": "qFS2p67CKLoe",
        "outputId": "515082a5-265b-425c-92fc-5b414dc5062b"
      },
      "source": [
        "newdataset2.groupby([\"PRODUCT\",\"VILLES\",\"STATUS\",\"DATE_TIME\"], sort= True).sum().head(1000)"
      ],
      "execution_count": null,
      "outputs": [
        {
          "output_type": "execute_result",
          "data": {
            "text/html": [
              "<div>\n",
              "<style scoped>\n",
              "    .dataframe tbody tr th:only-of-type {\n",
              "        vertical-align: middle;\n",
              "    }\n",
              "\n",
              "    .dataframe tbody tr th {\n",
              "        vertical-align: top;\n",
              "    }\n",
              "\n",
              "    .dataframe thead th {\n",
              "        text-align: right;\n",
              "    }\n",
              "</style>\n",
              "<table border=\"1\" class=\"dataframe\">\n",
              "  <thead>\n",
              "    <tr style=\"text-align: right;\">\n",
              "      <th></th>\n",
              "      <th></th>\n",
              "      <th></th>\n",
              "      <th></th>\n",
              "      <th>VALUE</th>\n",
              "    </tr>\n",
              "    <tr>\n",
              "      <th>PRODUCT</th>\n",
              "      <th>VILLES</th>\n",
              "      <th>STATUS</th>\n",
              "      <th>DATE_TIME</th>\n",
              "      <th></th>\n",
              "    </tr>\n",
              "  </thead>\n",
              "  <tbody>\n",
              "    <tr>\n",
              "      <th rowspan=\"5\" valign=\"top\">Voice</th>\n",
              "      <th rowspan=\"5\" valign=\"top\">ABENGOUROU</th>\n",
              "      <th rowspan=\"5\" valign=\"top\">In Service</th>\n",
              "      <th>2012-05-07 23:13:29.0</th>\n",
              "      <td>138</td>\n",
              "    </tr>\n",
              "    <tr>\n",
              "      <th>2012-05-07 23:13:34.0</th>\n",
              "      <td>54</td>\n",
              "    </tr>\n",
              "    <tr>\n",
              "      <th>2012-05-07 23:13:35.0</th>\n",
              "      <td>0</td>\n",
              "    </tr>\n",
              "    <tr>\n",
              "      <th>2012-05-07 23:13:37.0</th>\n",
              "      <td>38</td>\n",
              "    </tr>\n",
              "    <tr>\n",
              "      <th>2012-05-07 23:13:38.0</th>\n",
              "      <td>0</td>\n",
              "    </tr>\n",
              "    <tr>\n",
              "      <th>...</th>\n",
              "      <th>...</th>\n",
              "      <th>...</th>\n",
              "      <th>...</th>\n",
              "      <td>...</td>\n",
              "    </tr>\n",
              "    <tr>\n",
              "      <th rowspan=\"5\" valign=\"top\">sms</th>\n",
              "      <th rowspan=\"5\" valign=\"top\">ABOBO</th>\n",
              "      <th rowspan=\"5\" valign=\"top\">In Service</th>\n",
              "      <th>2012-05-07 23:28:19.0</th>\n",
              "      <td>0</td>\n",
              "    </tr>\n",
              "    <tr>\n",
              "      <th>2012-05-07 23:37:39.0</th>\n",
              "      <td>0</td>\n",
              "    </tr>\n",
              "    <tr>\n",
              "      <th>2012-05-07 23:37:48.0</th>\n",
              "      <td>50</td>\n",
              "    </tr>\n",
              "    <tr>\n",
              "      <th>2012-05-07 23:37:50.0</th>\n",
              "      <td>50</td>\n",
              "    </tr>\n",
              "    <tr>\n",
              "      <th>2012-05-07 23:39:13.0</th>\n",
              "      <td>0</td>\n",
              "    </tr>\n",
              "  </tbody>\n",
              "</table>\n",
              "<p>1000 rows × 1 columns</p>\n",
              "</div>"
            ],
            "text/plain": [
              "                                                     VALUE\n",
              "PRODUCT VILLES     STATUS     DATE_TIME                   \n",
              "Voice   ABENGOUROU In Service 2012-05-07 23:13:29.0    138\n",
              "                              2012-05-07 23:13:34.0     54\n",
              "                              2012-05-07 23:13:35.0      0\n",
              "                              2012-05-07 23:13:37.0     38\n",
              "                              2012-05-07 23:13:38.0      0\n",
              "...                                                    ...\n",
              "sms     ABOBO      In Service 2012-05-07 23:28:19.0      0\n",
              "                              2012-05-07 23:37:39.0      0\n",
              "                              2012-05-07 23:37:48.0     50\n",
              "                              2012-05-07 23:37:50.0     50\n",
              "                              2012-05-07 23:39:13.0      0\n",
              "\n",
              "[1000 rows x 1 columns]"
            ]
          },
          "metadata": {
            "tags": []
          },
          "execution_count": 68
        }
      ]
    },
    {
      "cell_type": "code",
      "metadata": {
        "colab": {
          "base_uri": "https://localhost:8080/",
          "height": 173
        },
        "id": "Xy7PduSdNUCe",
        "outputId": "71e9ec53-61ab-4784-f02c-9e0ed048bec6"
      },
      "source": [
        "newdataset2.groupby([\"PRODUCT\"]).mean()"
      ],
      "execution_count": null,
      "outputs": [
        {
          "output_type": "execute_result",
          "data": {
            "text/html": [
              "<div>\n",
              "<style scoped>\n",
              "    .dataframe tbody tr th:only-of-type {\n",
              "        vertical-align: middle;\n",
              "    }\n",
              "\n",
              "    .dataframe tbody tr th {\n",
              "        vertical-align: top;\n",
              "    }\n",
              "\n",
              "    .dataframe thead th {\n",
              "        text-align: right;\n",
              "    }\n",
              "</style>\n",
              "<table border=\"1\" class=\"dataframe\">\n",
              "  <thead>\n",
              "    <tr style=\"text-align: right;\">\n",
              "      <th></th>\n",
              "      <th>VALUE</th>\n",
              "    </tr>\n",
              "    <tr>\n",
              "      <th>PRODUCT</th>\n",
              "      <th></th>\n",
              "    </tr>\n",
              "  </thead>\n",
              "  <tbody>\n",
              "    <tr>\n",
              "      <th>Voice</th>\n",
              "      <td>54.294858</td>\n",
              "    </tr>\n",
              "    <tr>\n",
              "      <th>data</th>\n",
              "      <td>7.180157</td>\n",
              "    </tr>\n",
              "    <tr>\n",
              "      <th>sms</th>\n",
              "      <td>5.458566</td>\n",
              "    </tr>\n",
              "  </tbody>\n",
              "</table>\n",
              "</div>"
            ],
            "text/plain": [
              "             VALUE\n",
              "PRODUCT           \n",
              "Voice    54.294858\n",
              "data      7.180157\n",
              "sms       5.458566"
            ]
          },
          "metadata": {
            "tags": []
          },
          "execution_count": 64
        }
      ]
    },
    {
      "cell_type": "code",
      "metadata": {
        "colab": {
          "base_uri": "https://localhost:8080/",
          "height": 450
        },
        "id": "ypWrSE_LKqEs",
        "outputId": "03fbd0d4-64a6-4a53-ffca-618e329214fb"
      },
      "source": [
        "newdataset3.groupby([\"PRODUCT\",\"VILLES\",\"STATUS\",\"DATE_TIME\"], sort= True).sum().head(1000)"
      ],
      "execution_count": null,
      "outputs": [
        {
          "output_type": "execute_result",
          "data": {
            "text/html": [
              "<div>\n",
              "<style scoped>\n",
              "    .dataframe tbody tr th:only-of-type {\n",
              "        vertical-align: middle;\n",
              "    }\n",
              "\n",
              "    .dataframe tbody tr th {\n",
              "        vertical-align: top;\n",
              "    }\n",
              "\n",
              "    .dataframe thead th {\n",
              "        text-align: right;\n",
              "    }\n",
              "</style>\n",
              "<table border=\"1\" class=\"dataframe\">\n",
              "  <thead>\n",
              "    <tr style=\"text-align: right;\">\n",
              "      <th></th>\n",
              "      <th></th>\n",
              "      <th></th>\n",
              "      <th></th>\n",
              "      <th>VALUE</th>\n",
              "    </tr>\n",
              "    <tr>\n",
              "      <th>PRODUCT</th>\n",
              "      <th>VILLES</th>\n",
              "      <th>STATUS</th>\n",
              "      <th>DATE_TIME</th>\n",
              "      <th></th>\n",
              "    </tr>\n",
              "  </thead>\n",
              "  <tbody>\n",
              "    <tr>\n",
              "      <th rowspan=\"5\" valign=\"top\">Voice</th>\n",
              "      <th rowspan=\"5\" valign=\"top\">ABENGOUROU</th>\n",
              "      <th rowspan=\"5\" valign=\"top\">In Service</th>\n",
              "      <th>2012-05-08 23:14:03.0</th>\n",
              "      <td>88</td>\n",
              "    </tr>\n",
              "    <tr>\n",
              "      <th>2012-05-08 23:14:26.0</th>\n",
              "      <td>159</td>\n",
              "    </tr>\n",
              "    <tr>\n",
              "      <th>2012-05-08 23:14:42.0</th>\n",
              "      <td>0</td>\n",
              "    </tr>\n",
              "    <tr>\n",
              "      <th>2012-05-08 23:14:44.0</th>\n",
              "      <td>56</td>\n",
              "    </tr>\n",
              "    <tr>\n",
              "      <th>2012-05-08 23:14:57.0</th>\n",
              "      <td>0</td>\n",
              "    </tr>\n",
              "    <tr>\n",
              "      <th>...</th>\n",
              "      <th>...</th>\n",
              "      <th>...</th>\n",
              "      <th>...</th>\n",
              "      <td>...</td>\n",
              "    </tr>\n",
              "    <tr>\n",
              "      <th rowspan=\"5\" valign=\"top\">sms</th>\n",
              "      <th>BONOUFLA</th>\n",
              "      <th>In Service</th>\n",
              "      <th>2012-05-09 00:00:06.0</th>\n",
              "      <td>0</td>\n",
              "    </tr>\n",
              "    <tr>\n",
              "      <th>BOUADIKRO</th>\n",
              "      <th>In Service</th>\n",
              "      <th>2012-05-09 00:00:07.0</th>\n",
              "      <td>2</td>\n",
              "    </tr>\n",
              "    <tr>\n",
              "      <th>BOUAFLE</th>\n",
              "      <th>In Service</th>\n",
              "      <th>2012-05-09 00:00:07.0</th>\n",
              "      <td>100</td>\n",
              "    </tr>\n",
              "    <tr>\n",
              "      <th rowspan=\"2\" valign=\"top\">BOUAKE</th>\n",
              "      <th rowspan=\"2\" valign=\"top\">In Service</th>\n",
              "      <th>2012-05-08 23:46:41.0</th>\n",
              "      <td>0</td>\n",
              "    </tr>\n",
              "    <tr>\n",
              "      <th>2012-05-08 23:46:47.0</th>\n",
              "      <td>0</td>\n",
              "    </tr>\n",
              "  </tbody>\n",
              "</table>\n",
              "<p>1000 rows × 1 columns</p>\n",
              "</div>"
            ],
            "text/plain": [
              "                                                     VALUE\n",
              "PRODUCT VILLES     STATUS     DATE_TIME                   \n",
              "Voice   ABENGOUROU In Service 2012-05-08 23:14:03.0     88\n",
              "                              2012-05-08 23:14:26.0    159\n",
              "                              2012-05-08 23:14:42.0      0\n",
              "                              2012-05-08 23:14:44.0     56\n",
              "                              2012-05-08 23:14:57.0      0\n",
              "...                                                    ...\n",
              "sms     BONOUFLA   In Service 2012-05-09 00:00:06.0      0\n",
              "        BOUADIKRO  In Service 2012-05-09 00:00:07.0      2\n",
              "        BOUAFLE    In Service 2012-05-09 00:00:07.0    100\n",
              "        BOUAKE     In Service 2012-05-08 23:46:41.0      0\n",
              "                              2012-05-08 23:46:47.0      0\n",
              "\n",
              "[1000 rows x 1 columns]"
            ]
          },
          "metadata": {
            "tags": []
          },
          "execution_count": 69
        }
      ]
    },
    {
      "cell_type": "code",
      "metadata": {
        "colab": {
          "base_uri": "https://localhost:8080/",
          "height": 173
        },
        "id": "QejVBefvNcc6",
        "outputId": "d2827f27-d39b-49cc-cea8-befe1f794c1a"
      },
      "source": [
        "newdataset3.groupby([\"PRODUCT\"]).mean()"
      ],
      "execution_count": null,
      "outputs": [
        {
          "output_type": "execute_result",
          "data": {
            "text/html": [
              "<div>\n",
              "<style scoped>\n",
              "    .dataframe tbody tr th:only-of-type {\n",
              "        vertical-align: middle;\n",
              "    }\n",
              "\n",
              "    .dataframe tbody tr th {\n",
              "        vertical-align: top;\n",
              "    }\n",
              "\n",
              "    .dataframe thead th {\n",
              "        text-align: right;\n",
              "    }\n",
              "</style>\n",
              "<table border=\"1\" class=\"dataframe\">\n",
              "  <thead>\n",
              "    <tr style=\"text-align: right;\">\n",
              "      <th></th>\n",
              "      <th>VALUE</th>\n",
              "    </tr>\n",
              "    <tr>\n",
              "      <th>PRODUCT</th>\n",
              "      <th></th>\n",
              "    </tr>\n",
              "  </thead>\n",
              "  <tbody>\n",
              "    <tr>\n",
              "      <th>Voice</th>\n",
              "      <td>65.047372</td>\n",
              "    </tr>\n",
              "    <tr>\n",
              "      <th>data</th>\n",
              "      <td>6.861472</td>\n",
              "    </tr>\n",
              "    <tr>\n",
              "      <th>sms</th>\n",
              "      <td>9.844958</td>\n",
              "    </tr>\n",
              "  </tbody>\n",
              "</table>\n",
              "</div>"
            ],
            "text/plain": [
              "             VALUE\n",
              "PRODUCT           \n",
              "Voice    65.047372\n",
              "data      6.861472\n",
              "sms       9.844958"
            ]
          },
          "metadata": {
            "tags": []
          },
          "execution_count": 65
        }
      ]
    },
    {
      "cell_type": "markdown",
      "metadata": {
        "id": "Ips4NqfBLTn3"
      },
      "source": [
        "The most used cities used during home hours are ABENGOUROU, ABOBO and BLESSEGUE in the three days but no city were used during business hour."
      ]
    }
  ]
}